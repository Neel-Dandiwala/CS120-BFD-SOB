{
 "cells": [
  {
   "cell_type": "code",
   "execution_count": 2,
   "id": "38220389",
   "metadata": {},
   "outputs": [],
   "source": [
    "from ecdsa import SigningKey, SECP256k1"
   ]
  },
  {
   "cell_type": "code",
   "execution_count": 3,
   "id": "e264c003",
   "metadata": {},
   "outputs": [],
   "source": [
    "sk = SigningKey.generate(curve=SECP256k1)"
   ]
  },
  {
   "cell_type": "code",
   "execution_count": 4,
   "id": "c71f82af",
   "metadata": {},
   "outputs": [],
   "source": [
    "vk = sk.verifying_key"
   ]
  },
  {
   "cell_type": "code",
   "execution_count": 5,
   "id": "4b5e4d7e",
   "metadata": {},
   "outputs": [],
   "source": [
    "signature = sk.sign(b\"I love carrots, they are my favourite\")"
   ]
  },
  {
   "cell_type": "code",
   "execution_count": 6,
   "id": "f0a40867",
   "metadata": {},
   "outputs": [
    {
     "name": "stdout",
     "output_type": "stream",
     "text": [
      "<ecdsa.keys.SigningKey object at 0x00000270E7D9B580>\n",
      "VerifyingKey.from_string(b'\\x03E\\xd2%\\xe1\\x97\\xb0\\xe9;\\x9a2\\xecV)H#=c\\xdd\\xdc.\\xe1\\xfd\\x9f\\x87HS9:\\x05\\xe1}\\x97', SECP256k1, sha1)\n",
      "b'\\x08\\x88V\\xa3\\xde\\xab\\xc3\\xbc\\x1c\\x9dD\\xa6\\xe0\\x9dG$\\xcet\\xab\\xf1\\xb5\\x87\\xa3L\\x86\\xb5F\\r\\xe8I\\xa3\\x97\\xba\\x11\\x84\\xc5\\xe9\\xda>`\\xbd\\x89\\x01|v\\xd2\\xa6\\r\\x89mU\\x0ee\\x01R\\xaa\\xf0\\xbd\\xa0\\x9f\\xb6tN\\n'\n"
     ]
    }
   ],
   "source": [
    "print(sk)\n",
    "print(vk)\n",
    "print(signature)"
   ]
  },
  {
   "cell_type": "code",
   "execution_count": 10,
   "id": "28393fbb",
   "metadata": {},
   "outputs": [],
   "source": [
    "assert vk.verify(signature, b\"I love carrots, they are my favourite\")"
   ]
  },
  {
   "cell_type": "code",
   "execution_count": null,
   "id": "0e110b80",
   "metadata": {},
   "outputs": [],
   "source": []
  }
 ],
 "metadata": {
  "kernelspec": {
   "display_name": "Python 3 (ipykernel)",
   "language": "python",
   "name": "python3"
  },
  "language_info": {
   "codemirror_mode": {
    "name": "ipython",
    "version": 3
   },
   "file_extension": ".py",
   "mimetype": "text/x-python",
   "name": "python",
   "nbconvert_exporter": "python",
   "pygments_lexer": "ipython3",
   "version": "3.10.5"
  }
 },
 "nbformat": 4,
 "nbformat_minor": 5
}
